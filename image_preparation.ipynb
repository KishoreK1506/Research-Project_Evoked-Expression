{
 "cells": [
  {
   "cell_type": "code",
   "execution_count": 3,
   "id": "65da20a0",
   "metadata": {},
   "outputs": [],
   "source": [
    "import pandas as pd\n",
    "import numpy as np\n",
    "import cv2\n",
    "import os\n",
    "import matplotlib.pyplot as plt\n",
    "from moviepy.video.io.VideoFileClip import VideoFileClip\n",
    "import librosa\n",
    "import moviepy.editor as mp\n",
    "import numpy as np\n",
    "import matplotlib.pyplot as plt\n"
   ]
  },
  {
   "cell_type": "code",
   "execution_count": 4,
   "id": "b003f8cf",
   "metadata": {},
   "outputs": [],
   "source": [
    "train_video_folder = \"/Users/kj/Desktop/Research Project/Train videos\"\n",
    "train_data = pd.read_csv(\"/Users/kj/Desktop/Research Project/Data set/train.csv\")\n",
    "train_video_names = train_data[\"YouTube ID\"].unique()"
   ]
  },
  {
   "cell_type": "code",
   "execution_count": 5,
   "id": "1a67d8da",
   "metadata": {},
   "outputs": [],
   "source": [
    "train_data = train_data[::25]"
   ]
  },
  {
   "cell_type": "code",
   "execution_count": 6,
   "id": "b21941a8",
   "metadata": {},
   "outputs": [
    {
     "data": {
      "image/png": "[encoded data removed]",
      "text/plain": [
       "<Figure size 432x288 with 1 Axes>"
      ]
     },
     "metadata": {
      "needs_background": "light"
     },
     "output_type": "display_data"
    }
   ],
   "source": [
    "train_data.iloc[:,2:].plot(kind=\"box\")\n",
    "plt.xticks(rotation=90)\n",
    "plt.show()"
   ]
  },
  {
   "cell_type": "code",
   "execution_count": 7,
   "id": "872db4cb",
   "metadata": {},
   "outputs": [
    {
     "name": "stdout",
     "output_type": "stream",
     "text": [
      "anger             0.008333\n",
      "awe               0.005665\n",
      "concentration     0.582638\n",
      "confusion         0.121627\n",
      "contempt          0.043919\n",
      "contentment       0.474709\n",
      "disappointment    0.175334\n",
      "doubt             0.020537\n",
      "elation           0.027558\n",
      "interest          0.701466\n",
      "pain              0.080016\n",
      "sadness           0.416372\n",
      "surprise          0.101754\n",
      "triumph           0.000728\n",
      "Name: 0.9, dtype: float64\n"
     ]
    }
   ],
   "source": [
    "print(train_data.quantile(0.90)[2:])"
   ]
  },
  {
   "cell_type": "code",
   "execution_count": 8,
   "id": "2a1cf9c6",
   "metadata": {},
   "outputs": [],
   "source": [
    "if not os.path.exists(\"Train_Images\"):\n",
    "    os.mkdir(\"Train_Images\")"
   ]
  },
  {
   "cell_type": "code",
   "execution_count": 9,
   "id": "cce69ec3",
   "metadata": {},
   "outputs": [],
   "source": [
    "top_ten_percent = train_data.quantile(0.90)"
   ]
  },
  {
   "cell_type": "code",
   "execution_count": 10,
   "id": "6f760954",
   "metadata": {},
   "outputs": [],
   "source": [
    "emotions = [\"concentration\",\"confusion\",\"contentment\",\"interest\",\"sadness\"]\n",
    "final_train_data = pd.DataFrame(columns=[\"image\",\"concentration\",\"confusion\",\"contentment\",\"interest\",\"sadness\"])"
   ]
  },
  {
   "cell_type": "code",
   "execution_count": 11,
   "id": "de5e080a",
   "metadata": {},
   "outputs": [
    {
     "data": {
      "text/html": [
       "<div>\n",
       "<style scoped>\n",
       "    .dataframe tbody tr th:only-of-type {\n",
       "        vertical-align: middle;\n",
       "    }\n",
       "\n",
       "    .dataframe tbody tr th {\n",
       "        vertical-align: top;\n",
       "    }\n",
       "\n",
       "    .dataframe thead th {\n",
       "        text-align: right;\n",
       "    }\n",
       "</style>\n",
       "<table border=\"1\" class=\"dataframe\">\n",
       "  <thead>\n",
       "    <tr style=\"text-align: right;\">\n",
       "      <th></th>\n",
       "      <th>image</th>\n",
       "      <th>concentration</th>\n",
       "      <th>confusion</th>\n",
       "      <th>contentment</th>\n",
       "      <th>interest</th>\n",
       "      <th>sadness</th>\n",
       "    </tr>\n",
       "  </thead>\n",
       "  <tbody>\n",
       "  </tbody>\n",
       "</table>\n",
       "</div>"
      ],
      "text/plain": [
       "Empty DataFrame\n",
       "Columns: [image, concentration, confusion, contentment, interest, sadness]\n",
       "Index: []"
      ]
     },
     "execution_count": 11,
     "metadata": {},
     "output_type": "execute_result"
    }
   ],
   "source": [
    "final_train_data"
   ]
  },
  {
   "cell_type": "code",
   "execution_count": 12,
   "id": "3418e6d4",
   "metadata": {},
   "outputs": [],
   "source": [
    "def add_noise_to_audio(audio_array, noise_level=0.01):\n",
    "    # Generate random noise and add it to the audio array\n",
    "    noise = np.random.normal(0, noise_level, len(audio_array))\n",
    "    noisy_audio = audio_array + noise[:, np.newaxis] \n",
    "    return noisy_audio\n",
    "\n",
    "def extract_spectrogram(audio, fps, timestamp_ms, noise=True, noise_level=0.01):\n",
    "    # Convert timestamp from microseconds to seconds\n",
    "    timestamp_sec = timestamp_ms / 1000000.0\n",
    "\n",
    "    # Define the time range for audio extraction\n",
    "    start_ts = max(0, timestamp_sec - 5)\n",
    "    end_ts = timestamp_sec\n",
    "\n",
    "    # Extract audio within the time range\n",
    "    audio = audio.subclip(start_ts, end_ts)\n",
    "    audio_array = audio.to_soundarray(fps=fps)\n",
    "    if noise:\n",
    "        # Add noise to the audio array\n",
    "        audio_array = add_noise_to_audio(audio_array, noise_level)\n",
    "\n",
    "    # Calculate the spectrogram\n",
    "    spectrogram = librosa.amplitude_to_db(librosa.stft(audio_array), ref=np.max)\n",
    "    return spectrogram"
   ]
  },
  {
   "cell_type": "code",
   "execution_count": 14,
   "id": "80288c05",
   "metadata": {
    "scrolled": true
   },
   "outputs": [
    {
     "data": {
      "image/png": "[encoded data removed]",
      "text/plain": [
       "<Figure size 1080x360 with 2 Axes>"
      ]
     },
     "metadata": {
      "needs_background": "light"
     },
     "output_type": "display_data"
    }
   ],
   "source": [
    "video_path = \"/Users/kj/Desktop/Research Project/Train videos/_29dg6_e3fs/Lil DM3 - 23 (Offical Music Video) Shot by Flexx Productions.mp4\"\n",
    "# Load the video and get its FPS\n",
    "video = cv2.VideoCapture(video_path)\n",
    "fps = np.ceil(video.get(cv2.CAP_PROP_FPS))\n",
    "\n",
    "# Load the audio from the video\n",
    "video_vfc = mp.VideoFileClip(video_path)\n",
    "audio = video_vfc.audio\n",
    "time_stamp = 6000000\n",
    "original_audio = extract_spectrogram(audio, fps, time_stamp,noise = False)\n",
    "noise_audio = extract_spectrogram(audio, fps, time_stamp,noise = True, noise_level=0.2)\n",
    "\n",
    "\n",
    "# Create a figure with 3 subplots arranged in a 1x3 grid\n",
    "fig, axs = plt.subplots(1, 2, figsize=(15, 5))\n",
    "\n",
    "# Plot data on the first subplot\n",
    "axs[0].imshow(original_audio)\n",
    "axs[0].set_title('Original')\n",
    "\n",
    "# Plot data on the second subplot\n",
    "axs[1].imshow(noise_audio)\n",
    "axs[1].set_title('Noisy')\n",
    "\n",
    "plt.show()"
   ]
  },
  {
   "cell_type": "code",
   "execution_count": 15,
   "id": "30b91e17",
   "metadata": {},
   "outputs": [
    {
     "data": {
      "image/png": "[encoded data removed]",
      "text/plain": [
       "<Figure size 1080x360 with 2 Axes>"
      ]
     },
     "metadata": {
      "needs_background": "light"
     },
     "output_type": "display_data"
    }
   ],
   "source": [
    "video_path = \"/Users/kj/Desktop/Research Project/Train videos/_29dg6_e3fs/Lil DM3 - 23 (Offical Music Video) Shot by Flexx Productions.mp4\"\n",
    "# Load the video and get its FPS\n",
    "video = cv2.VideoCapture(video_path)\n",
    "fps = np.ceil(video.get(cv2.CAP_PROP_FPS))\n",
    "\n",
    "# Load the audio from the video\n",
    "video_vfc = mp.VideoFileClip(video_path)\n",
    "audio = video_vfc.audio\n",
    "time_stamp = 120000000\n",
    "original_audio = extract_spectrogram(audio, fps, time_stamp,noise = False)\n",
    "noise_audio = extract_spectrogram(audio, fps, time_stamp,noise = True, noise_level=0.2)\n",
    "\n",
    "\n",
    "# Create a figure with 3 subplots arranged in a 1x3 grid\n",
    "fig, axs = plt.subplots(1, 2, figsize=(15, 5))\n",
    "\n",
    "# Plot data on the first subplot\n",
    "axs[0].imshow(original_audio)\n",
    "axs[0].set_title('Original')\n",
    "\n",
    "# Plot data on the second subplot\n",
    "axs[1].imshow(noise_audio)\n",
    "axs[1].set_title('Noisy')\n",
    "\n",
    "plt.show()"
   ]
  },
  {
   "cell_type": "code",
   "execution_count": 23,
   "id": "ce9f7fa9",
   "metadata": {
    "scrolled": true
   },
   "outputs": [],
   "source": [
    "# Loop through first 500 video names in train_video_names\n",
    "for cur_name in train_video_names[0:500]:\n",
    "    # Check if the video exists\n",
    "    if os.path.exists(\"Train_Videos/{}\".format(cur_name)):\n",
    "        print(\"Extracting Frames from {}\".format(cur_name))\n",
    "\n",
    "        # Get the name and path of the video\n",
    "        video_name = os.listdir(\"Train_Videos/{}\".format(cur_name))[0]\n",
    "        video_path = \"Train_Videos/{}/{}\".format(cur_name, video_name)\n",
    "\n",
    "        # Load the video and get its FPS\n",
    "        video = cv2.VideoCapture(video_path)\n",
    "        fps = np.ceil(video.get(cv2.CAP_PROP_FPS))\n",
    "        \n",
    "        # Load the audio from the video\n",
    "        video_vfc = mp.VideoFileClip(video_path)\n",
    "        audio = video_vfc.audio\n",
    "            \n",
    "        # Get the subset of train_data for the current video\n",
    "        sub_data = train_data[train_data[\"YouTube ID\"] == cur_name]\n",
    "        sub_data.reset_index(inplace=True, drop=True)\n",
    "\n",
    "        # Loop through each timestamp and extract frames and spectrograms\n",
    "        for idx, time_stamp in enumerate(sub_data[\"Timestamp (milliseconds)\"]):\n",
    "            ts = time_stamp / 1000.0\n",
    "\n",
    "            # Skip frames within the first 5 seconds\n",
    "            if time_stamp / 1000000.0 <= 5:\n",
    "                continue\n",
    "            else:\n",
    "                # Get the emotion label with the highest score\n",
    "                frame_emotion = sub_data.columns[np.argmax(sub_data.iloc[idx][2:]) + 2]\n",
    "\n",
    "                # Check if the frame emotion is valid and above the threshold\n",
    "                if frame_emotion in emotions and sub_data.iloc[idx][frame_emotion] >= top_ten_percent[frame_emotion]:\n",
    "                    video.set(cv2.CAP_PROP_POS_MSEC, ts)\n",
    "                    ret, frame = video.read()\n",
    "\n",
    "                    if ret:\n",
    "                        # Save the frame and spectrogram as an image\n",
    "                        image_name = \"Train_Images/\" + cur_name + \"_\" + str(idx) + \".jpg\"\n",
    "                        spectrogram = extract_spectrogram(audio, fps, time_stamp)\n",
    "                        spectrogram = cv2.resize(spectrogram, (frame.shape[1], spectrogram.shape[0]))\n",
    "                        spectrogram = cv2.applyColorMap(spectrogram.astype(np.uint8), cv2.COLORMAP_VIRIDIS)\n",
    "                        image = cv2.vconcat([frame, spectrogram])\n",
    "                        cv2.imwrite(image_name, image)\n",
    "\n",
    "                        # Append data to the final_train_data DataFrame\n",
    "                        tep_df = pd.DataFrame(columns=final_train_data.columns, data=[[image_name] + list(sub_data.iloc[idx][emotions].values)])\n",
    "                        final_train_data = final_train_data.append(tep_df, ignore_index=True)\n",
    "                    else:\n",
    "                        print(\"Error! Retrieving Frame at {} ms\".format(time_stamp))\n",
    "                else:\n",
    "                    print(\"Frame Does not Match Criteria!\")\n"
   ]
  },
  {
   "cell_type": "code",
   "execution_count": 24,
   "id": "04e310fa",
   "metadata": {},
   "outputs": [],
   "source": [
    "final_train_data.to_csv(\"KJ.csv\",index=False)"
   ]
  },
  {
   "cell_type": "code",
   "execution_count": null,
   "id": "bba4954f",
   "metadata": {},
   "outputs": [],
   "source": []
  },
  {
   "cell_type": "code",
   "execution_count": null,
   "id": "ed71871d",
   "metadata": {},
   "outputs": [],
   "source": []
  }
 ],
 "metadata": {
  "kernelspec": {
   "display_name": "Python 3 (ipykernel)",
   "language": "python",
   "name": "python3"
  },
  "language_info": {
   "codemirror_mode": {
    "name": "ipython",
    "version": 3
   },
   "file_extension": ".py",
   "mimetype": "text/x-python",
   "name": "python",
   "nbconvert_exporter": "python",
   "pygments_lexer": "ipython3",
   "version": "3.9.12"
  }
 },
 "nbformat": 4,
 "nbformat_minor": 5
}
